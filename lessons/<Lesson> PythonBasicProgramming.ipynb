{
 "cells": [
  {
   "cell_type": "markdown",
   "metadata": {},
   "source": [
    "<img src=\"../resource/image/adf_logo.jpg\" width=\"250\" height=\"auto\" style=\"margin: 0 auto\"/>"
   ]
  },
  {
   "cell_type": "markdown",
   "metadata": {},
   "source": [
    "<h1>Hello, Welcome to AdaFactor Live Python Programming session</h1>\n",
    "<p>I hope you will enjoy my session today. First of all today we'are going to talking about a famous programming language\n",
    "    well known as Python. Ok let's start!!\n",
    "</p>\n",
    "<h3>Topics for the session</h3>\n",
    "<ul>\n",
    "    <li>1. Your first application in python</li>\n",
    "    <li>2. Decision statement </li>\n",
    "    <li>3. Repeator </li>\n",
    "    <li>4. String methods </li>\n",
    "    <li>5. How to declare function  </li>\n",
    "    <li>6. Class in python  </li>\n",
    "</ul>\n"
   ]
  },
  {
   "cell_type": "markdown",
   "metadata": {},
   "source": [
    "## 1. Your first application in python\n",
    "<p> Noting special just a Hello world application, I know you love it^^</p>"
   ]
  },
  {
   "cell_type": "code",
   "execution_count": null,
   "metadata": {},
   "outputs": [],
   "source": [
    "# YOU CODE GOES HERE!\n",
    "# Syntax print(\"String here\")"
   ]
  },
  {
   "cell_type": "markdown",
   "metadata": {},
   "source": [
    "## 2. Decision Statement\n",
    "<p>In python it has decision statement like other programming language</p>\n",
    "\n",
    "#### IF...ELSE Statement\n"
   ]
  },
  {
   "cell_type": "code",
   "execution_count": null,
   "metadata": {},
   "outputs": [],
   "source": [
    "'''\n",
    "Syntax \n",
    "if expression :\n",
    "    code statement 1\n",
    "else:\n",
    "    code statement 2\n",
    "'''\n"
   ]
  },
  {
   "cell_type": "markdown",
   "metadata": {},
   "source": [
    "#### IF...ELSEIF...ELSE"
   ]
  },
  {
   "cell_type": "code",
   "execution_count": null,
   "metadata": {
    "scrolled": false
   },
   "outputs": [],
   "source": [
    "'''\n",
    "Syntax \n",
    "if expression 1 :\n",
    "    code statement 1\n",
    "elif expression 2 :\n",
    "    code statement 2\n",
    "else:\n",
    "    code statment 3\n",
    "'''"
   ]
  },
  {
   "cell_type": "markdown",
   "metadata": {},
   "source": [
    "<strong>That too easy right? in my view, all of you're knew a decision statment. let's move to the next step of basic programming </strong>"
   ]
  },
  {
   "cell_type": "markdown",
   "metadata": {},
   "source": [
    "### 3. Repeator make computer like computer\n",
    "<p>(or as know as a loop)</p>\n",
    "\n",
    "In python, we have only 2 keywords of loop\n",
    "<ul>\n",
    "    <li>For...loop</li>\n",
    "    <li>While...loop</li>\n",
    "</ul>\n",
    "\n",
    "but only 2 make a lots of fun!!\n",
    "\n",
    "#### While loop"
   ]
  },
  {
   "cell_type": "code",
   "execution_count": null,
   "metadata": {},
   "outputs": [],
   "source": [
    "'''\n",
    "Syntax\n",
    "while expression:\n",
    "    code statement\n",
    "'''"
   ]
  },
  {
   "cell_type": "markdown",
   "metadata": {},
   "source": [
    "##### While loop with Else keyword"
   ]
  },
  {
   "cell_type": "code",
   "execution_count": null,
   "metadata": {},
   "outputs": [],
   "source": [
    "'''\n",
    "Syntax\n",
    "while expression:\n",
    "    code statement 1\n",
    "else:\n",
    "    code statment 2\n",
    "'''"
   ]
  },
  {
   "cell_type": "markdown",
   "metadata": {},
   "source": [
    "#### For loop (The real fun here)\n",
    "##### 1. Regular range loop"
   ]
  },
  {
   "cell_type": "code",
   "execution_count": null,
   "metadata": {},
   "outputs": [],
   "source": [
    "'''\n",
    "Syntax\n",
    "for variables in iterable_item:\n",
    "    code statement\n",
    "'''"
   ]
  },
  {
   "cell_type": "markdown",
   "metadata": {},
   "source": [
    "##### 2. Loop with string instead"
   ]
  },
  {
   "cell_type": "code",
   "execution_count": null,
   "metadata": {},
   "outputs": [],
   "source": [
    "for letter in 'AdaFactor':\n",
    "    print(letter, end=' ') #Print function will talk later"
   ]
  },
  {
   "cell_type": "markdown",
   "metadata": {},
   "source": [
    "##### 3. need an index? it's a easy task in your life^^"
   ]
  },
  {
   "cell_type": "code",
   "execution_count": null,
   "metadata": {},
   "outputs": [],
   "source": [
    "for index, ele in enumerate('AdaFactor'):\n",
    "    print(index, ':', ele)"
   ]
  },
  {
   "cell_type": "markdown",
   "metadata": {},
   "source": [
    "##### 5. For loop with sequence"
   ]
  },
  {
   "cell_type": "code",
   "execution_count": null,
   "metadata": {},
   "outputs": [],
   "source": [
    "heros = ('Thor', 'Dr.Strange', 'Hulk', 'Ironman', 'Spiderman')\n",
    "for hero in heros:\n",
    "    print(hero)"
   ]
  },
  {
   "cell_type": "markdown",
   "metadata": {},
   "source": [
    "5.1 Want more than a hero each round"
   ]
  },
  {
   "cell_type": "code",
   "execution_count": null,
   "metadata": {},
   "outputs": [],
   "source": [
    "for i in range(len(heros)):\n",
    "    if i+1 >= len(heros):\n",
    "        break\n",
    "    print(heros[i], ' vs ', heros[i+1])"
   ]
  },
  {
   "cell_type": "markdown",
   "metadata": {},
   "source": [
    "### Exercise 2\n",
    "Loop techniques"
   ]
  },
  {
   "cell_type": "markdown",
   "metadata": {},
   "source": [
    "###### 2.1 Write a program to verify that an input word has a vowel"
   ]
  },
  {
   "cell_type": "code",
   "execution_count": null,
   "metadata": {},
   "outputs": [],
   "source": [
    "'''Program 2.1 verifying vowels containing in a word'''\n",
    "\n"
   ]
  },
  {
   "cell_type": "markdown",
   "metadata": {},
   "source": [
    "###### 2.2 Infinity loop for rolling a dice "
   ]
  },
  {
   "cell_type": "code",
   "execution_count": null,
   "metadata": {},
   "outputs": [],
   "source": [
    "''' Program 2.2 Rolling a dice by infinity loop'''"
   ]
  },
  {
   "cell_type": "markdown",
   "metadata": {},
   "source": [
    "### 4. String Method\n",
    "for this topic we gonna talking about a \"STRING\" we quiet familar with it because of most programming language\n",
    "has it. So, let's see in Python how cool is it^^"
   ]
  },
  {
   "cell_type": "markdown",
   "metadata": {},
   "source": [
    "###### 4.1  Declare string"
   ]
  },
  {
   "cell_type": "code",
   "execution_count": null,
   "metadata": {},
   "outputs": [],
   "source": []
  },
  {
   "cell_type": "markdown",
   "metadata": {},
   "source": [
    "###### 4.2 Multiply a string"
   ]
  },
  {
   "cell_type": "code",
   "execution_count": null,
   "metadata": {},
   "outputs": [],
   "source": []
  },
  {
   "cell_type": "markdown",
   "metadata": {},
   "source": [
    "###### 4.3 Append string"
   ]
  },
  {
   "cell_type": "code",
   "execution_count": null,
   "metadata": {},
   "outputs": [],
   "source": [
    "\n"
   ]
  },
  {
   "cell_type": "markdown",
   "metadata": {},
   "source": [
    "###### 4.4 Find match string and returning a begin index"
   ]
  },
  {
   "cell_type": "code",
   "execution_count": null,
   "metadata": {},
   "outputs": [],
   "source": [
    "'''\n",
    "string.find('target')\n",
    "len(string) --> return length of string\n",
    "'''\n",
    "test_string = 'Hello, Ada'\n",
    "\n"
   ]
  },
  {
   "cell_type": "markdown",
   "metadata": {},
   "source": [
    "###### 4.5 Let's find the best method for concating strings"
   ]
  },
  {
   "cell_type": "markdown",
   "metadata": {},
   "source": [
    "4.5.1 Plus"
   ]
  },
  {
   "cell_type": "code",
   "execution_count": null,
   "metadata": {},
   "outputs": [],
   "source": [
    "str1 = 'Ada'\n",
    "str2 = 'Factor'\n",
    "concated = str1+str2\n",
    "print(concated)\n"
   ]
  },
  {
   "cell_type": "markdown",
   "metadata": {},
   "source": [
    "4.5.2 Join"
   ]
  },
  {
   "cell_type": "code",
   "execution_count": null,
   "metadata": {},
   "outputs": [],
   "source": [
    "str1 = 'Ada'\n",
    "str2 = 'Factor'\n",
    "concated = ' '.join([str1, str2, str1])\n",
    "print(concated)"
   ]
  },
  {
   "cell_type": "markdown",
   "metadata": {},
   "source": [
    "4.5.3 Format"
   ]
  },
  {
   "cell_type": "code",
   "execution_count": null,
   "metadata": {},
   "outputs": [],
   "source": [
    "str1 = 'Ada'\n",
    "str2 = 'Factor'\n",
    "concated = '{0} {1}'.format(str1, str2) \n",
    "print( concated )\n"
   ]
  },
  {
   "cell_type": "markdown",
   "metadata": {},
   "source": [
    "4.5.4 Interpolation"
   ]
  },
  {
   "cell_type": "code",
   "execution_count": null,
   "metadata": {},
   "outputs": [],
   "source": [
    "str1 = 'Ada'\n",
    "str2 = 'Factor'\n",
    "concated = '%s %s' % (str1, str2)\n",
    "print( concated )\n"
   ]
  },
  {
   "cell_type": "markdown",
   "metadata": {
    "collapsed": true
   },
   "source": [
    "### 5. Declaring a function\n",
    "<strong>\"Function names should be lowercase, with words separated by underscores as necessary to improve readability.\"</strong>\n",
    "<cite>- PEP8</cite>"
   ]
  },
  {
   "cell_type": "code",
   "execution_count": null,
   "metadata": {
    "collapsed": true
   },
   "outputs": [],
   "source": [
    "# Syntax look like this\n",
    "def ada_function(n):\n",
    "    print(n)"
   ]
  },
  {
   "cell_type": "markdown",
   "metadata": {},
   "source": [
    "#### Return 1 value"
   ]
  },
  {
   "cell_type": "code",
   "execution_count": null,
   "metadata": {
    "collapsed": true
   },
   "outputs": [],
   "source": [
    "def ada_plus(n):\n",
    "    return n+1"
   ]
  },
  {
   "cell_type": "markdown",
   "metadata": {},
   "source": [
    "#### Return more values"
   ]
  },
  {
   "cell_type": "code",
   "execution_count": null,
   "metadata": {},
   "outputs": [],
   "source": [
    "def ada_position(cur):\n",
    "    return cur-1, cur+1\n",
    "\n",
    "def ada_next_threestep(k):\n",
    "    return k+1, k+2, k+3\n",
    "\n",
    "prev_pos, next_pos = ada_position(10)\n",
    "print(\" \".join([\"Previous position:\", str(prev_pos), \"\\nNext position:\", str(next_pos)]))\n",
    "\n",
    "a, b, c = ada_next_threestep(0)\n",
    "print(a, b, c)\n"
   ]
  },
  {
   "cell_type": "markdown",
   "metadata": {},
   "source": [
    "### 6. Class Class Class in Python\n",
    "<strong>Class names should normally use the CapWords convention.</strong><br />\n",
    "and <strong>Always use self for the first argument to instance methods.</strong><br />\n",
    "<cite>- PEP8</cite>"
   ]
  },
  {
   "cell_type": "code",
   "execution_count": null,
   "metadata": {
    "collapsed": true
   },
   "outputs": [],
   "source": [
    "class Adagroup:\n",
    "    def __init__(self):\n",
    "        self.__devote_to = 'Ada'\n",
    "    \n",
    "    def devotee_of(self):\n",
    "        print('Devotee of {0}'.format(self.__devote_to))\n",
    "\n",
    "class Adafactor(Adagroup):\n",
    "    '''Adafactor is an example class'''\n",
    "    counter = 0\n",
    "    \n",
    "    def __init__(self, name, surname):\n",
    "        super().__init__()\n",
    "        self.__name = name\n",
    "        self.__surname = surname\n",
    "        Adafactor.counter += 1\n",
    "    \n",
    "    def __str__(self):\n",
    "        return 'Adafactor(name={0}, surname={1})'.format(self.__name, self.__surname)\n",
    "    \n",
    "    def display_fullname(self):\n",
    "        print('Fullname: {0} {1}'.format(self.__name, self.__surname))"
   ]
  },
  {
   "cell_type": "code",
   "execution_count": null,
   "metadata": {},
   "outputs": [],
   "source": [
    "a1 = Adafactor('Ada', 'de Sions')\n",
    "a2 = Adafactor(surname='Factor', name=\"Ada\")\n",
    "\n",
    "a1.display_fullname()\n",
    "a1.devotee_of()"
   ]
  }
 ],
 "metadata": {
  "kernelspec": {
   "display_name": "Python 3",
   "language": "python",
   "name": "python3"
  },
  "language_info": {
   "codemirror_mode": {
    "name": "ipython",
    "version": 3
   },
   "file_extension": ".py",
   "mimetype": "text/x-python",
   "name": "python",
   "nbconvert_exporter": "python",
   "pygments_lexer": "ipython3",
   "version": "3.6.2"
  }
 },
 "nbformat": 4,
 "nbformat_minor": 2
}

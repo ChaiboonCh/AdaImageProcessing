{
 "cells": [
  {
   "cell_type": "markdown",
   "metadata": {},
   "source": [
    "### First Problem\n",
    "Find the most frequency of student's height in a class"
   ]
  },
  {
   "cell_type": "code",
   "execution_count": 30,
   "metadata": {},
   "outputs": [
    {
     "name": "stdout",
     "output_type": "stream",
     "text": [
      "Checked_list:  [150, 170, 177, 176, 175]\n",
      "Data:  [150, 170, 177, 170, 176, 175, 170]\n",
      "Counter: [1, 3, 1, 1, 1, 1, 1]\n",
      "Most frequency is  170\n"
     ]
    }
   ],
   "source": [
    "data = [150, 170, 177, 170, 176, 175, 170]\n",
    "counter = [1]*len(data)\n",
    "checked_list = []\n",
    "for d in data:\n",
    "    if d not in checked_list:\n",
    "        checked_list.append(d)\n",
    "    else:\n",
    "        for index, c in enumerate(checked_list):\n",
    "            if d == c:\n",
    "                counter[index] += 1\n",
    "        \n",
    "print('Checked_list: ', checked_list)\n",
    "print('Data: ',data)\n",
    "print('Counter:', counter)\n",
    "print(\"Most frequency is \", checked_list[counter.index(max(counter))])"
   ]
  },
  {
   "cell_type": "markdown",
   "metadata": {
    "collapsed": true
   },
   "source": [
    "### Second Problem\n",
    "Write a program to exchange money into Thai bath notes and coins\n",
    "*needs the most effective exchange\n",
    "(Least bath notes and coins)"
   ]
  },
  {
   "cell_type": "code",
   "execution_count": 90,
   "metadata": {},
   "outputs": [],
   "source": [
    "import math\n",
    "\n",
    "def exchange(money, bath_value):\n",
    "    mem = money//bath_value\n",
    "    money = money%bath_value\n",
    "    return money, int(mem)\n",
    "\n",
    "def display(store):\n",
    "    labels = ('Thousands', 'Five Hundred', 'One Hundred', 'Fifty', \n",
    "              'Twenty', 'Ten', 'Five', 'Two', 'One', 'Half', 'Quarter')\n",
    "    for i, v in enumerate(store):\n",
    "        result = ' '.join([str(v), labels[i]])\n",
    "        print(result)"
   ]
  },
  {
   "cell_type": "code",
   "execution_count": 136,
   "metadata": {},
   "outputs": [
    {
     "name": "stdout",
     "output_type": "stream",
     "text": [
      "4.74 µs ± 212 ns per loop (mean ± std. dev. of 7 runs, 100000 loops each)\n"
     ]
    }
   ],
   "source": [
    "%%timeit\n",
    "'''0 = 1000, 1 = 500, 2 = 100, 3 = 50, 4 = 20, 5 = 10, 6 = 5, 7 = 2, 8 = 1, 9 = 0.5, 10 = 0.25'''\n",
    "money = 6788 #6,1,2,1,1,1,1,1,1,1\n",
    "store = [0]*11\n",
    "\n",
    "while money > 0:\n",
    "    if money//1000 > 0:\n",
    "        money, store[0] = exchange(money, 1000)\n",
    "    elif money//500 > 0:\n",
    "        money, store[1] = exchange(money, 500)\n",
    "    elif money//100 > 0:\n",
    "        money, store[2] = exchange(money, 100)\n",
    "    elif money//50 > 0:\n",
    "        money, store[3] = exchange(money, 50)\n",
    "    elif money//20 > 0:\n",
    "        money, store[4] = exchange(money, 20)\n",
    "    elif money//10 > 0:\n",
    "        money, store[5] = exchange(money, 10)\n",
    "    elif money//5 > 0:\n",
    "        money, store[6] = exchange(money, 5)\n",
    "    elif money//2 > 0:\n",
    "        money, store[7] = exchange(money, 2)\n",
    "    elif money//1 > 0:\n",
    "        money, store[8] = exchange(money, 1)\n",
    "    elif money//0.5 > 0:\n",
    "        money, store[9] = exchange(money, 0.5)\n",
    "    elif money//0.25 > 0:\n",
    "        money, store[10] = exchange(money, 0.25)\n",
    "    else:\n",
    "        break\n",
    "\n",
    "# display(store)"
   ]
  },
  {
   "cell_type": "code",
   "execution_count": 135,
   "metadata": {},
   "outputs": [
    {
     "name": "stdout",
     "output_type": "stream",
     "text": [
      "4.26 µs ± 22.3 ns per loop (mean ± std. dev. of 7 runs, 100000 loops each)\n"
     ]
    }
   ],
   "source": [
    "%%timeit\n",
    "bath_values = [1000, 500, 100, 50, 20, 10, 5, 2, 1, 0.5, 0.25]\n",
    "money = 6788\n",
    "store_n = [0]*len(bath_values)\n",
    "\n",
    "for i, bv in enumerate(bath_values):\n",
    "    money, store_n[i] = exchange(money, bv)\n",
    "\n",
    "# display(store_n)"
   ]
  },
  {
   "cell_type": "code",
   "execution_count": null,
   "metadata": {
    "collapsed": true
   },
   "outputs": [],
   "source": []
  }
 ],
 "metadata": {
  "kernelspec": {
   "display_name": "Python 3",
   "language": "python",
   "name": "python3"
  },
  "language_info": {
   "codemirror_mode": {
    "name": "ipython",
    "version": 3
   },
   "file_extension": ".py",
   "mimetype": "text/x-python",
   "name": "python",
   "nbconvert_exporter": "python",
   "pygments_lexer": "ipython3",
   "version": "3.6.2"
  }
 },
 "nbformat": 4,
 "nbformat_minor": 2
}

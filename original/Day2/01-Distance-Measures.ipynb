{
 "cells": [
  {
   "cell_type": "markdown",
   "metadata": {},
   "source": [
    "<br/>\n",
    "# <center><b>Welcome to 2nd Day of the course<b/></center>\n",
    "\n"
   ]
  },
  {
   "cell_type": "markdown",
   "metadata": {},
   "source": [
    "## <b>01-Distance measures</b>\n",
    "\n",
    "For p, q, and z are pixels with coordinates (x, y), (s, t), and (v, w), respectively.<br/>\n",
    "D is define as distance function if,<br/>\n",
    "1. $ D(p, q) \\ge 0 $, ( D(p, q) = 0 iff p = q )\n",
    "- $ D(p, q) = D(q, p) $\n",
    "- $D(p, z) \\le D(p, q) + D(q, z)$"
   ]
  },
  {
   "cell_type": "markdown",
   "metadata": {},
   "source": [
    "## 1. $D_e$ or Euclidean Distance <br/>\n",
    "<h2>$$ D_e(p, q) = \\sqrt{(x - s)^2 + (y - t)^2} $$</h2>"
   ]
  },
  {
   "cell_type": "code",
   "execution_count": 38,
   "metadata": {},
   "outputs": [
    {
     "name": "stdout",
     "output_type": "stream",
     "text": [
      "D_e: 2.0\n"
     ]
    }
   ],
   "source": [
    "import numpy as np\n",
    "\n",
    "def test_distance_fn(p, q, z, d_fn):\n",
    "    assert d_fn(p, q) >= 0, 'Fail verify at condition 1, It\\'s not a distance function'\n",
    "    assert d_fn(p, q) == d_fn(q, p), 'Fail verifing at condition 2, It\\'s not a distance function'\n",
    "    assert d_fn(p, q) <= d_fn(p, q) + d_fn(q, z), 'Fail verifing at condition 3, It\\'s not a distance function'\n",
    "\n",
    "def distance_e(p, q):\n",
    "    x_term = np.power(p[0] - q[0], 2)\n",
    "    y_term = np.power(p[1] - q[1], 2)\n",
    "    return np.sqrt(x_term+y_term)\n",
    "    \n",
    "p = (1, 1)\n",
    "q = (3, 1)\n",
    "z = (3, 0)\n",
    "print('D_e:', distance_e(p, q))\n",
    "test_distance_fn(p, q, z, distance_e)"
   ]
  },
  {
   "cell_type": "markdown",
   "metadata": {},
   "source": [
    "## 2. $D_4$  or City-block Distance<br/>\n",
    "<h2>$$ D_4(p, q) = \\lvert x - s \\rvert + \\lvert y - t \\rvert $$</h2>"
   ]
  },
  {
   "cell_type": "code",
   "execution_count": 39,
   "metadata": {},
   "outputs": [
    {
     "name": "stdout",
     "output_type": "stream",
     "text": [
      "D_4: 2\n"
     ]
    }
   ],
   "source": [
    "def distance_4(p, q):\n",
    "    return np.abs(p[0]-q[0])+np.abs(p[1]-q[1])\n",
    "\n",
    "test_distance_fn(p, q, z, distance_4)\n",
    "print('D_4:', distance_4(p,q))"
   ]
  },
  {
   "cell_type": "markdown",
   "metadata": {},
   "source": [
    "## 3. $D_8$ or Chessboard Distance <br/>\n",
    "<h2>$$ D_8(p, q) = max(\\lvert x - s \\rvert , \\lvert y - t \\rvert) $$</h2>"
   ]
  },
  {
   "cell_type": "code",
   "execution_count": 40,
   "metadata": {},
   "outputs": [
    {
     "name": "stdout",
     "output_type": "stream",
     "text": [
      "D_8: 2\n"
     ]
    }
   ],
   "source": [
    "def distance_8(p, q):\n",
    "    return max(np.abs(p[0]-q[0]), np.abs(p[1]-q[1]))\n",
    "\n",
    "test_distance_fn(p, q, z, distance_8)\n",
    "print('D_8:', distance_8(p, q))"
   ]
  },
  {
   "cell_type": "markdown",
   "metadata": {},
   "source": [
    "## Exercise <br/>\n",
    "<b>Write a program to find a neighborhood by distance measures </b>\n",
    "1. 4-neighbors\n",
    "- 8-neighbors"
   ]
  },
  {
   "cell_type": "code",
   "execution_count": null,
   "metadata": {
    "collapsed": true
   },
   "outputs": [],
   "source": [
    "# Hint: Try to find out relationship between distance and neighborhood"
   ]
  }
 ],
 "metadata": {
  "kernelspec": {
   "display_name": "Python 3",
   "language": "python",
   "name": "python3"
  },
  "language_info": {
   "codemirror_mode": {
    "name": "ipython",
    "version": 3
   },
   "file_extension": ".py",
   "mimetype": "text/x-python",
   "name": "python",
   "nbconvert_exporter": "python",
   "pygments_lexer": "ipython3",
   "version": "3.6.2"
  }
 },
 "nbformat": 4,
 "nbformat_minor": 2
}

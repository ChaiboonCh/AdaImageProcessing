{
 "cells": [
  {
   "cell_type": "markdown",
   "metadata": {},
   "source": [
    "# <b>03-Spatial Correlation and Convolution</b>"
   ]
  },
  {
   "cell_type": "markdown",
   "metadata": {},
   "source": [
    "## <b>1. Correlation</b><br/>\n",
    "<p>\n",
    "Is a process of moving a filter mask over the image and computing the sum of product.\n",
    "</p>\n",
    "<h3>\n",
    "$$ w(x, y) \\star f(x, y) = \\sum_{s=-a}^a\\sum_{t=-b}^b w(s, t)   f(x+s, y+t)$$\n",
    "</h3>"
   ]
  },
  {
   "cell_type": "markdown",
   "metadata": {},
   "source": [
    "## <b>2. Convolution</b><br/>\n",
    "<p>\n",
    "Same as correlation but the filter first rotate by $180^o$\n",
    "</p>\n",
    "<h3>\n",
    "$$ w(x, y) \\star f(x, y) = \\sum_{s=-a}^a\\sum_{t=-b}^b w(s, t)   f(x-s, y-t)$$\n",
    "</h3>"
   ]
  },
  {
   "cell_type": "markdown",
   "metadata": {},
   "source": [
    "### Figure, Convolution"
   ]
  },
  {
   "cell_type": "markdown",
   "metadata": {},
   "source": [
    "<img src=\"../../resource/image/convolution.png\" />"
   ]
  },
  {
   "cell_type": "markdown",
   "metadata": {},
   "source": [
    "## <b>Exercise write both functions correlation and convolution</b>"
   ]
  },
  {
   "cell_type": "code",
   "execution_count": null,
   "metadata": {
    "collapsed": true
   },
   "outputs": [],
   "source": [
    "# Let's go!!"
   ]
  }
 ],
 "metadata": {
  "kernelspec": {
   "display_name": "Python 3",
   "language": "python",
   "name": "python3"
  },
  "language_info": {
   "codemirror_mode": {
    "name": "ipython",
    "version": 3
   },
   "file_extension": ".py",
   "mimetype": "text/x-python",
   "name": "python",
   "nbconvert_exporter": "python",
   "pygments_lexer": "ipython3",
   "version": "3.6.2"
  }
 },
 "nbformat": 4,
 "nbformat_minor": 2
}

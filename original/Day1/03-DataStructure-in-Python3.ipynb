{
 "cells": [
  {
   "cell_type": "markdown",
   "metadata": {},
   "source": [
    "# <b>03-DataStructure in Python3</b>"
   ]
  },
  {
   "cell_type": "markdown",
   "metadata": {},
   "source": [
    "## <b>Introduction<b> <br />\n",
    "<p>\n",
    "In this section we going to talking about builtin data structure in pyhton3 \n",
    "</p><br />\n",
    "<h4>Topics</h4>\n",
    "1. <a href=\"#1.-Lists\">Lists</a>\n",
    "- <a href=\"#2.-Tuples\">Tuples</a>\n",
    "- <a href=\"#3.-Sets\">Tuples</a>\n",
    "- <a href=\"#4.-Dictionaries\">Dictionaties</a>\n",
    "- Sets "
   ]
  },
  {
   "cell_type": "markdown",
   "metadata": {},
   "source": [
    "<br />\n",
    "## <b>1. Lists</b>\n",
    "<br />\n",
    "\n",
    "<u><b>Important things<b/></u>\n",
    "1. Items need not be the same type <br />\n",
    "- Comma ',' seperateed\n",
    "- Feels like array in other programming language\n",
    "- Use bracket [ ]"
   ]
  },
  {
   "cell_type": "markdown",
   "metadata": {},
   "source": [
    "### 1.1 Declaring Lists"
   ]
  },
  {
   "cell_type": "code",
   "execution_count": 49,
   "metadata": {},
   "outputs": [
    {
     "name": "stdout",
     "output_type": "stream",
     "text": [
      "['Ada', 'Factor', 1902]\n"
     ]
    }
   ],
   "source": [
    "list1 = ['Ada', 'Factor', 1902]\n",
    "list2 = ['Image', 'Processing', 'by', 'Python3']\n",
    "\n",
    "print(list1)"
   ]
  },
  {
   "cell_type": "markdown",
   "metadata": {},
   "source": [
    "## 1.2 Accessing List"
   ]
  },
  {
   "cell_type": "markdown",
   "metadata": {},
   "source": [
    "<b>By index</b>"
   ]
  },
  {
   "cell_type": "code",
   "execution_count": 50,
   "metadata": {},
   "outputs": [
    {
     "name": "stdout",
     "output_type": "stream",
     "text": [
      "list1[0]: Ada\n"
     ]
    }
   ],
   "source": [
    "print('list1[0]:', list1[0])"
   ]
  },
  {
   "cell_type": "markdown",
   "metadata": {},
   "source": [
    "<b>By Colon notation (Matlab style)</b>"
   ]
  },
  {
   "cell_type": "code",
   "execution_count": 51,
   "metadata": {},
   "outputs": [
    {
     "name": "stdout",
     "output_type": "stream",
     "text": [
      "list1[:] :  ['Ada', 'Factor', 1902]\n",
      "list2[1:3] :  ['Processing', 'by']\n"
     ]
    }
   ],
   "source": [
    "print('list1[:] : ', list1[:]) # All values\n",
    "\n",
    "print('list2[1:3] : ', list2[1:3]) # interval values"
   ]
  },
  {
   "cell_type": "markdown",
   "metadata": {},
   "source": [
    "## 1.3 Updating List"
   ]
  },
  {
   "cell_type": "markdown",
   "metadata": {},
   "source": [
    "<b>Direct assign by index</b>"
   ]
  },
  {
   "cell_type": "code",
   "execution_count": 52,
   "metadata": {},
   "outputs": [
    {
     "name": "stdout",
     "output_type": "stream",
     "text": [
      "['ADA', 'Factor', 1902]\n"
     ]
    }
   ],
   "source": [
    "list1[0] = 'ADA'\n",
    "print(list1)"
   ]
  },
  {
   "cell_type": "markdown",
   "metadata": {},
   "source": [
    "<b> Append List </b>"
   ]
  },
  {
   "cell_type": "markdown",
   "metadata": {},
   "source": [
    "- by Method"
   ]
  },
  {
   "cell_type": "code",
   "execution_count": 53,
   "metadata": {},
   "outputs": [
    {
     "name": "stdout",
     "output_type": "stream",
     "text": [
      "['ADA', 'Factor', 1902, 'AdaCode']\n"
     ]
    }
   ],
   "source": [
    "list1.append('AdaCode') \n",
    "\n",
    "print(list1)"
   ]
  },
  {
   "cell_type": "markdown",
   "metadata": {},
   "source": [
    "- by expression "
   ]
  },
  {
   "cell_type": "code",
   "execution_count": 54,
   "metadata": {},
   "outputs": [
    {
     "name": "stdout",
     "output_type": "stream",
     "text": [
      "['Image', 'Processing', 'by', 'Python3', 'AdaCode']\n"
     ]
    }
   ],
   "source": [
    "list2[len(list2):] = ['AdaCode']\n",
    "\n",
    "print(list2)"
   ]
  },
  {
   "cell_type": "markdown",
   "metadata": {},
   "source": [
    "<b>Extend list</b>\n",
    "<br />\n",
    "It differ from append because Extend is add all new elements from a list"
   ]
  },
  {
   "cell_type": "markdown",
   "metadata": {},
   "source": [
    "- by method"
   ]
  },
  {
   "cell_type": "code",
   "execution_count": 55,
   "metadata": {},
   "outputs": [
    {
     "name": "stdout",
     "output_type": "stream",
     "text": [
      "['ADA', 'Factor', 1902, 'AdaCode', 'Image', 'Processing', 'by', 'Python3', 'AdaCode']\n"
     ]
    }
   ],
   "source": [
    "n_list = list1[:]\n",
    "n_list.extend(list2)\n",
    "print(n_list)"
   ]
  },
  {
   "cell_type": "markdown",
   "metadata": {},
   "source": [
    "- by expression"
   ]
  },
  {
   "cell_type": "code",
   "execution_count": 56,
   "metadata": {},
   "outputs": [
    {
     "name": "stdout",
     "output_type": "stream",
     "text": [
      "['ADA', 'Factor', 1902, 'AdaCode', 'Image', 'Processing', 'by', 'Python3', 'AdaCode']\n"
     ]
    }
   ],
   "source": [
    "n2_list = list1[:]\n",
    "n2_list[len(n2_list):] = list2\n",
    "\n",
    "print(n2_list)"
   ]
  },
  {
   "cell_type": "markdown",
   "metadata": {},
   "source": [
    "## 1.4 Use lisst as Matrix"
   ]
  },
  {
   "cell_type": "code",
   "execution_count": 69,
   "metadata": {},
   "outputs": [
    {
     "name": "stdout",
     "output_type": "stream",
     "text": [
      "1\n",
      "0\n",
      "0\n",
      "0\n",
      "1\n",
      "0\n",
      "0\n",
      "0\n",
      "1\n"
     ]
    }
   ],
   "source": [
    "matrix = [\n",
    "    [1, 0, 0],\n",
    "    [0, 1, 0],\n",
    "    [0, 0, 1]\n",
    "]\n",
    "\n",
    "# Accessing by For loop\n",
    "for row in matrix:\n",
    "    for col in row:\n",
    "        print(col)"
   ]
  },
  {
   "cell_type": "code",
   "execution_count": 79,
   "metadata": {},
   "outputs": [
    {
     "name": "stdout",
     "output_type": "stream",
     "text": [
      "[[1, 0, 0], [0, 1, 0], [0, 0, 1]]\n"
     ]
    }
   ],
   "source": [
    "#Colon notation\n",
    "print( matrix[:][:] )"
   ]
  },
  {
   "cell_type": "markdown",
   "metadata": {},
   "source": [
    "<br />\n",
    "## <b>2. Tuples</b>\n",
    "<br />\n",
    "\n",
    "<u><b>Important things<b/></u>\n",
    "1. Items need not be the same type <br />\n",
    "- Like Lists but \"READ-ONLY\"\n",
    "- Use paranthese ( )\n",
    "<br />"
   ]
  },
  {
   "cell_type": "code",
   "execution_count": 91,
   "metadata": {},
   "outputs": [
    {
     "name": "stdout",
     "output_type": "stream",
     "text": [
      "('Ada', 'Factor', 1902)\n"
     ]
    }
   ],
   "source": [
    "tuple1 = ('Ada', 'Factor', 1902)\n",
    "print(tuple1)"
   ]
  },
  {
   "cell_type": "code",
   "execution_count": 89,
   "metadata": {},
   "outputs": [
    {
     "name": "stdout",
     "output_type": "stream",
     "text": [
      "('Ada', 'Factor', 1902)\n",
      "Ada\n"
     ]
    }
   ],
   "source": [
    "# Colon Notation\n",
    "print(tuple1[:])\n",
    "\n",
    "# Indexing\n",
    "print(tuple1[0])"
   ]
  },
  {
   "cell_type": "markdown",
   "metadata": {},
   "source": [
    "<br />\n",
    "## <b>3. Sets</b>\n",
    "<br />\n",
    "\n",
    "<u><b>Important things<b/></u>\n",
    "1. Unordered collection<br />\n",
    "- No duplicate data\n",
    "- Supported mathematical operations such as Union, Intersection, different, and symmetric different\n",
    "- Use Curly braces {} or the set() function to create\n",
    "- Do not use {} to create an empty set but set() instead\n",
    "<br />"
   ]
  },
  {
   "cell_type": "markdown",
   "metadata": {},
   "source": [
    "## 3.0 Creating Sets"
   ]
  },
  {
   "cell_type": "code",
   "execution_count": 107,
   "metadata": {},
   "outputs": [
    {
     "name": "stdout",
     "output_type": "stream",
     "text": [
      "{'Ironman', 'CaptainAmerica', 'Thor', 'Hulk'}\n"
     ]
    }
   ],
   "source": [
    "illuminati_set = {'Dr.Strange', 'Ironman', 'Mr.Fantastic4', 'ProfessorX', 'BlackBolt'}\n",
    "avengers_set = {'CaptainAmerica', 'Ironman', 'Hulk', 'Thor', 'Thor'}\n",
    "\n",
    "print(avengers_set)"
   ]
  },
  {
   "cell_type": "markdown",
   "metadata": {},
   "source": [
    "## 3.1 Fast Checking"
   ]
  },
  {
   "cell_type": "code",
   "execution_count": 106,
   "metadata": {},
   "outputs": [
    {
     "data": {
      "text/plain": [
       "True"
      ]
     },
     "execution_count": 106,
     "metadata": {},
     "output_type": "execute_result"
    }
   ],
   "source": [
    "'Ironman' in illuminati_set"
   ]
  },
  {
   "cell_type": "markdown",
   "metadata": {},
   "source": [
    "## 3.2 Mathematical operation "
   ]
  },
  {
   "cell_type": "markdown",
   "metadata": {},
   "source": [
    "3.2.1 Union ($A \\cup B$)"
   ]
  },
  {
   "cell_type": "code",
   "execution_count": 113,
   "metadata": {},
   "outputs": [
    {
     "name": "stdout",
     "output_type": "stream",
     "text": [
      "{'Dr.Strange', 'Thor', 'Hulk', 'BlackBolt', 'Ironman', 'ProfessorX', 'CaptainAmerica', 'Mr.Fantastic4'}\n"
     ]
    }
   ],
   "source": [
    "union_set = illuminati_set | avengers_set\n",
    "print(union_set)"
   ]
  },
  {
   "cell_type": "markdown",
   "metadata": {},
   "source": [
    "3.2.2 Intersection ( $A \\cap B $ )"
   ]
  },
  {
   "cell_type": "code",
   "execution_count": 116,
   "metadata": {},
   "outputs": [
    {
     "name": "stdout",
     "output_type": "stream",
     "text": [
      "{'Ironman'}\n"
     ]
    }
   ],
   "source": [
    "intersec_set = illuminati_set & avengers_set\n",
    "print(intersec_set)"
   ]
  },
  {
   "cell_type": "markdown",
   "metadata": {},
   "source": [
    "3.2.3 Difference ( $A - B$ )"
   ]
  },
  {
   "cell_type": "code",
   "execution_count": 121,
   "metadata": {},
   "outputs": [
    {
     "name": "stdout",
     "output_type": "stream",
     "text": [
      "{'BlackBolt', 'Dr.Strange', 'ProfessorX', 'Mr.Fantastic4'}\n"
     ]
    }
   ],
   "source": [
    "diff = illuminati_set - avengers_set\n",
    "print(diff)"
   ]
  },
  {
   "cell_type": "markdown",
   "metadata": {},
   "source": [
    "3.2.4 Symmetric Difference ( $A \\oplus B$ )\n",
    "<br />\n",
    "'Complement of intersection'"
   ]
  },
  {
   "cell_type": "code",
   "execution_count": 125,
   "metadata": {},
   "outputs": [
    {
     "name": "stdout",
     "output_type": "stream",
     "text": [
      "{'Dr.Strange', 'Thor', 'Hulk', 'BlackBolt', 'Mr.Fantastic4', 'ProfessorX', 'CaptainAmerica'}\n"
     ]
    }
   ],
   "source": [
    "not_both = illuminati_set ^ avengers_set\n",
    "print(not_both)"
   ]
  },
  {
   "cell_type": "markdown",
   "metadata": {},
   "source": [
    "<br />\n",
    "## <b>4. Dictionaries</b>\n",
    "<br />\n",
    "\n",
    "<u><b>Important things<b/></u>\n",
    "1. Unlike sequence data refered by index<br />\n",
    "- Dict indexing by 'key'\n",
    "- Unordered set of keys and values pair\n",
    "- Use curly braces {} but not the same as creating sets\n",
    "<br />"
   ]
  },
  {
   "cell_type": "markdown",
   "metadata": {},
   "source": [
    "## 4.0 Creating Dictionaries "
   ]
  },
  {
   "cell_type": "code",
   "execution_count": 148,
   "metadata": {},
   "outputs": [
    {
     "name": "stdout",
     "output_type": "stream",
     "text": [
      "สวัสดี\n",
      "Where have you been?\n"
     ]
    }
   ],
   "source": [
    "# 4.0.1 Notation\n",
    "rating_dict = {'Excellent': 5, 'Very good': 4, 'Good': 3, 'Normal': 2, 'Bad': 1}\n",
    "\n",
    "# 4.0.2 Contructor 1\n",
    "eng2thai_dict = dict(hello='สวัสดี', eat='รับประทาน', go='ไป')\n",
    "print(eng2thai_dict['hello'])\n",
    "\n",
    "# 4.0.3 Contructor 2 <pairing>\n",
    "thai2eng_dict = dict([('สบายดีไหม', 'How are you?'),\n",
    "                      ('คุณจะไปไหน', 'Where are you going?'),\n",
    "                      ('หายหัวไปไหนมา', 'Where have you been?')\n",
    "                     ])\n",
    "print(thai2eng_dict['หายหัวไปไหนมา'])"
   ]
  },
  {
   "cell_type": "markdown",
   "metadata": {},
   "source": [
    "## 4.1 Adding "
   ]
  },
  {
   "cell_type": "code",
   "execution_count": 149,
   "metadata": {},
   "outputs": [
    {
     "name": "stdout",
     "output_type": "stream",
     "text": [
      "{'hello': 'สวัสดี', 'eat': 'รับประทาน', 'go': 'ไป', 'I love you': 'ฉันรักเธอ'}\n"
     ]
    }
   ],
   "source": [
    "eng2thai_dict['I love you'] = \"ฉันรักเธอ\"\n",
    "print(eng2thai_dict)"
   ]
  },
  {
   "cell_type": "markdown",
   "metadata": {},
   "source": [
    "## 4.2 Looping techniques for Dictionaries"
   ]
  },
  {
   "cell_type": "markdown",
   "metadata": {},
   "source": [
    "4.2.1 Get keys and values"
   ]
  },
  {
   "cell_type": "code",
   "execution_count": 153,
   "metadata": {},
   "outputs": [
    {
     "name": "stdout",
     "output_type": "stream",
     "text": [
      "Excellent is meaning to 5 scores\n",
      "Very good is meaning to 4 scores\n",
      "Good is meaning to 3 scores\n",
      "Normal is meaning to 2 scores\n",
      "Bad is meaning to 1 scores\n"
     ]
    }
   ],
   "source": [
    "for key, value in rating_dict.items():\n",
    "    print(key, 'is meaning to', value, 'scores')"
   ]
  },
  {
   "cell_type": "markdown",
   "metadata": {},
   "source": [
    "4.2.3 Get Keys"
   ]
  },
  {
   "cell_type": "code",
   "execution_count": 157,
   "metadata": {},
   "outputs": [
    {
     "data": {
      "text/plain": [
       "dict_keys(['Excellent', 'Very good', 'Good', 'Normal', 'Bad'])"
      ]
     },
     "execution_count": 157,
     "metadata": {},
     "output_type": "execute_result"
    }
   ],
   "source": [
    "rating_dict.keys()"
   ]
  },
  {
   "cell_type": "markdown",
   "metadata": {},
   "source": [
    "4.2.4 Sorting"
   ]
  },
  {
   "cell_type": "code",
   "execution_count": 158,
   "metadata": {},
   "outputs": [
    {
     "data": {
      "text/plain": [
       "['Bad', 'Excellent', 'Good', 'Normal', 'Very good']"
      ]
     },
     "execution_count": 158,
     "metadata": {},
     "output_type": "execute_result"
    }
   ],
   "source": [
    "sorted(rating_dict)"
   ]
  },
  {
   "cell_type": "markdown",
   "metadata": {},
   "source": [
    "# <b>End 03-DataStructure-in-Python</b>"
   ]
  }
 ],
 "metadata": {
  "kernelspec": {
   "display_name": "Python 3",
   "language": "python",
   "name": "python3"
  },
  "language_info": {
   "codemirror_mode": {
    "name": "ipython",
    "version": 3
   },
   "file_extension": ".py",
   "mimetype": "text/x-python",
   "name": "python",
   "nbconvert_exporter": "python",
   "pygments_lexer": "ipython3",
   "version": "3.6.2"
  }
 },
 "nbformat": 4,
 "nbformat_minor": 2
}
